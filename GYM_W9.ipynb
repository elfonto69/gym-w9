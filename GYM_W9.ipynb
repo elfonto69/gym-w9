{
  "nbformat": 4,
  "nbformat_minor": 0,
  "metadata": {
    "colab": {
      "name": "GYM W9",
      "provenance": []
    },
    "kernelspec": {
      "name": "python3",
      "display_name": "Python 3"
    }
  },
  "cells": [
    {
      "cell_type": "code",
      "metadata": {
        "id": "n0kU9kVMg7ZO",
        "colab_type": "code",
        "colab": {}
      },
      "source": [
        "!pip install gym"
      ],
      "execution_count": 0,
      "outputs": []
    },
    {
      "cell_type": "code",
      "metadata": {
        "id": "Hfx96dc6kfsk",
        "colab_type": "code",
        "colab": {}
      },
      "source": [
        "!pip install pyvirtualdisplay\n",
        "!pip install piglet"
      ],
      "execution_count": 0,
      "outputs": []
    },
    {
      "cell_type": "code",
      "metadata": {
        "id": "Lmov2J15kpIy",
        "colab_type": "code",
        "colab": {}
      },
      "source": [
        "!apt-get install -y python-numpy python-dev cmake zlib1g-dev libjpeg-dev xvfb ffmpeg xorg-dev python-opengl libboost-all-dev libsdl2-dev swig"
      ],
      "execution_count": 0,
      "outputs": []
    },
    {
      "cell_type": "code",
      "metadata": {
        "id": "024DicP9lJ6y",
        "colab_type": "code",
        "colab": {
          "base_uri": "https://localhost:8080/",
          "height": 85
        },
        "outputId": "7b5065e4-1957-4fed-c74b-716722981879"
      },
      "source": [
        "!apt-get install xdpyinfo"
      ],
      "execution_count": 12,
      "outputs": [
        {
          "output_type": "stream",
          "text": [
            "Reading package lists... Done\n",
            "Building dependency tree       \n",
            "Reading state information... Done\n",
            "E: Unable to locate package xdpyinfo\n"
          ],
          "name": "stdout"
        }
      ]
    },
    {
      "cell_type": "code",
      "metadata": {
        "id": "mQPUZ9Elkblu",
        "colab_type": "code",
        "colab": {
          "base_uri": "https://localhost:8080/",
          "height": 71
        },
        "outputId": "71ad8a9a-c8e6-406c-ac5d-edd8730eda2c"
      },
      "source": [
        "from pyvirtualdisplay import Display\n",
        "display = Display(visible=0, size=(1400, 900))\n",
        "display.start()"
      ],
      "execution_count": 11,
      "outputs": [
        {
          "output_type": "stream",
          "text": [
            "xdpyinfo was not found, X start can not be checked! Please install xdpyinfo!\n"
          ],
          "name": "stderr"
        },
        {
          "output_type": "execute_result",
          "data": {
            "text/plain": [
              "<Display cmd_param=['Xvfb', '-br', '-nolisten', 'tcp', '-screen', '0', '1400x900x24', ':1001'] cmd=['Xvfb', '-br', '-nolisten', 'tcp', '-screen', '0', '1400x900x24', ':1001'] oserror=None return_code=None stdout=\"None\" stderr=\"None\" timeout_happened=False>"
            ]
          },
          "metadata": {
            "tags": []
          },
          "execution_count": 11
        }
      ]
    },
    {
      "cell_type": "code",
      "metadata": {
        "id": "-0u4WOysj3-l",
        "colab_type": "code",
        "colab": {
          "base_uri": "https://localhost:8080/",
          "height": 80
        },
        "outputId": "217aea2c-d54f-4ee0-e640-f0ca71cad7c3"
      },
      "source": [
        "# -*- coding: utf-8 -*-\n",
        "import random\n",
        "import gym\n",
        "import numpy as np\n",
        "from collections import deque\n",
        "from keras.models import Sequential\n",
        "from keras.layers import Dense\n",
        "from keras.optimizers import Adam\n",
        "\n",
        "EPISODES = 1000"
      ],
      "execution_count": 14,
      "outputs": [
        {
          "output_type": "stream",
          "text": [
            "Using TensorFlow backend.\n"
          ],
          "name": "stderr"
        },
        {
          "output_type": "display_data",
          "data": {
            "text/html": [
              "<p style=\"color: red;\">\n",
              "The default version of TensorFlow in Colab will soon switch to TensorFlow 2.x.<br>\n",
              "We recommend you <a href=\"https://www.tensorflow.org/guide/migrate\" target=\"_blank\">upgrade</a> now \n",
              "or ensure your notebook will continue to use TensorFlow 1.x via the <code>%tensorflow_version 1.x</code> magic:\n",
              "<a href=\"https://colab.research.google.com/notebooks/tensorflow_version.ipynb\" target=\"_blank\">more info</a>.</p>\n"
            ],
            "text/plain": [
              "<IPython.core.display.HTML object>"
            ]
          },
          "metadata": {
            "tags": []
          }
        }
      ]
    },
    {
      "cell_type": "code",
      "metadata": {
        "id": "QTUzSWWMnm1m",
        "colab_type": "code",
        "colab": {}
      },
      "source": [
        "# Deep Q-learning Agent\n",
        "class DQNAgent:\n",
        "    def __init__(self, state_size, action_size):\n",
        "        self.state_size = state_size\n",
        "        self.action_size = action_size\n",
        "        self.memory = deque(maxlen=2000)\n",
        "        self.gamma = 0.95    # discount rate\n",
        "        self.epsilon = 1.0  # exploration rate\n",
        "        self.epsilon_min = 0.01\n",
        "        self.epsilon_decay = 0.995\n",
        "        self.learning_rate = 0.001\n",
        "        self.model = self._build_model()\n",
        "    def _build_model(self):\n",
        "        # Neural Net for Deep-Q learning Model\n",
        "        model = Sequential()\n",
        "        model.add(Dense(24, input_dim=self.state_size, activation='relu'))\n",
        "        model.add(Dense(24, activation='relu'))\n",
        "        model.add(Dense(self.action_size, activation='linear'))\n",
        "        model.compile(loss='mse',\n",
        "                      optimizer=Adam(lr=self.learning_rate))\n",
        "        return model\n",
        "    def remember(self, state, action, reward, next_state, done):\n",
        "        self.memory.append((state, action, reward, next_state, done))\n",
        "    def act(self, state):\n",
        "        if np.random.rand() <= self.epsilon:\n",
        "            return random.randrange(self.action_size)\n",
        "        act_values = self.model.predict(state)\n",
        "        return np.argmax(act_values[0])  # returns action\n",
        "    def replay(self, batch_size):\n",
        "        minibatch = random.sample(self.memory, batch_size)\n",
        "        for state, action, reward, next_state, done in minibatch:\n",
        "            target = reward\n",
        "            if not done:\n",
        "              target = reward + self.gamma * \\\n",
        "                       np.amax(self.model.predict(next_state)[0])\n",
        "            target_f = self.model.predict(state)\n",
        "            target_f[0][action] = target\n",
        "            self.model.fit(state, target_f, epochs=1, verbose=0)\n",
        "        if self.epsilon > self.epsilon_min:\n",
        "            self.epsilon *= self.epsilon_decay"
      ],
      "execution_count": 0,
      "outputs": []
    },
    {
      "cell_type": "code",
      "metadata": {
        "id": "7FTzosgpnpGN",
        "colab_type": "code",
        "colab": {
          "base_uri": "https://localhost:8080/",
          "height": 1000
        },
        "outputId": "663b7647-a1aa-42fe-f925-fba7222fea98"
      },
      "source": [
        "if __name__ == \"__main__\":\n",
        "    env = gym.make('CartPole-v1')\n",
        "    state_size = env.observation_space.shape[0]\n",
        "    action_size = env.action_space.n\n",
        "    agent = DQNAgent(state_size, action_size)\n",
        "    # agent.load(\"./save/cartpole-dqn.h5\")\n",
        "    done = False\n",
        "    batch_size = 32\n",
        "\n",
        "    for e in range(EPISODES):\n",
        "        state = env.reset()\n",
        "        state = np.reshape(state, [1, state_size])\n",
        "        for time in range(500):\n",
        "            # env.render()\n",
        "            action = agent.act(state)\n",
        "            next_state, reward, done, _ = env.step(action)\n",
        "            reward = reward if not done else -10\n",
        "            next_state = np.reshape(next_state, [1, state_size])\n",
        "            agent.remember(state, action, reward, next_state, done)\n",
        "            state = next_state\n",
        "            if done:\n",
        "                print(\"episode: {}/{}, score: {}, e: {:.2}\"\n",
        "                      .format(e, EPISODES, time, agent.epsilon))\n",
        "                break\n",
        "            if len(agent.memory) > batch_size:\n",
        "                agent.replay(batch_size)\n",
        "        # if e % 10 == 0:\n",
        "        #     agent.save(\"./save/cartpole-dqn.h5\")"
      ],
      "execution_count": 0,
      "outputs": [
        {
          "output_type": "stream",
          "text": [
            "WARNING:tensorflow:From /usr/local/lib/python3.6/dist-packages/keras/backend/tensorflow_backend.py:66: The name tf.get_default_graph is deprecated. Please use tf.compat.v1.get_default_graph instead.\n",
            "\n",
            "WARNING:tensorflow:From /usr/local/lib/python3.6/dist-packages/keras/backend/tensorflow_backend.py:541: The name tf.placeholder is deprecated. Please use tf.compat.v1.placeholder instead.\n",
            "\n",
            "WARNING:tensorflow:From /usr/local/lib/python3.6/dist-packages/keras/backend/tensorflow_backend.py:4432: The name tf.random_uniform is deprecated. Please use tf.random.uniform instead.\n",
            "\n",
            "WARNING:tensorflow:From /usr/local/lib/python3.6/dist-packages/keras/optimizers.py:793: The name tf.train.Optimizer is deprecated. Please use tf.compat.v1.train.Optimizer instead.\n",
            "\n",
            "episode: 0/1000, score: 32, e: 1.0\n",
            "WARNING:tensorflow:From /usr/local/lib/python3.6/dist-packages/keras/backend/tensorflow_backend.py:3005: The name tf.Session is deprecated. Please use tf.compat.v1.Session instead.\n",
            "\n",
            "WARNING:tensorflow:From /usr/local/lib/python3.6/dist-packages/keras/backend/tensorflow_backend.py:190: The name tf.get_default_session is deprecated. Please use tf.compat.v1.get_default_session instead.\n",
            "\n",
            "WARNING:tensorflow:From /usr/local/lib/python3.6/dist-packages/keras/backend/tensorflow_backend.py:197: The name tf.ConfigProto is deprecated. Please use tf.compat.v1.ConfigProto instead.\n",
            "\n",
            "WARNING:tensorflow:From /usr/local/lib/python3.6/dist-packages/keras/backend/tensorflow_backend.py:207: The name tf.global_variables is deprecated. Please use tf.compat.v1.global_variables instead.\n",
            "\n",
            "WARNING:tensorflow:From /usr/local/lib/python3.6/dist-packages/keras/backend/tensorflow_backend.py:216: The name tf.is_variable_initialized is deprecated. Please use tf.compat.v1.is_variable_initialized instead.\n",
            "\n",
            "WARNING:tensorflow:From /usr/local/lib/python3.6/dist-packages/keras/backend/tensorflow_backend.py:223: The name tf.variables_initializer is deprecated. Please use tf.compat.v1.variables_initializer instead.\n",
            "\n",
            "WARNING:tensorflow:From /usr/local/lib/python3.6/dist-packages/keras/backend/tensorflow_backend.py:1033: The name tf.assign_add is deprecated. Please use tf.compat.v1.assign_add instead.\n",
            "\n",
            "WARNING:tensorflow:From /usr/local/lib/python3.6/dist-packages/keras/backend/tensorflow_backend.py:1020: The name tf.assign is deprecated. Please use tf.compat.v1.assign instead.\n",
            "\n",
            "episode: 1/1000, score: 30, e: 0.86\n",
            "episode: 2/1000, score: 24, e: 0.76\n",
            "episode: 3/1000, score: 10, e: 0.73\n",
            "episode: 4/1000, score: 7, e: 0.7\n",
            "episode: 5/1000, score: 32, e: 0.6\n",
            "episode: 6/1000, score: 10, e: 0.57\n",
            "episode: 7/1000, score: 9, e: 0.54\n",
            "episode: 8/1000, score: 13, e: 0.51\n",
            "episode: 9/1000, score: 19, e: 0.46\n",
            "episode: 10/1000, score: 23, e: 0.41\n",
            "episode: 11/1000, score: 31, e: 0.35\n",
            "episode: 12/1000, score: 10, e: 0.34\n",
            "episode: 13/1000, score: 12, e: 0.32\n",
            "episode: 14/1000, score: 100, e: 0.19\n",
            "episode: 15/1000, score: 42, e: 0.15\n",
            "episode: 16/1000, score: 48, e: 0.12\n",
            "episode: 17/1000, score: 47, e: 0.096\n",
            "episode: 18/1000, score: 89, e: 0.062\n",
            "episode: 19/1000, score: 100, e: 0.037\n",
            "episode: 20/1000, score: 49, e: 0.029\n",
            "episode: 21/1000, score: 96, e: 0.018\n",
            "episode: 22/1000, score: 166, e: 0.01\n",
            "episode: 23/1000, score: 157, e: 0.01\n",
            "episode: 24/1000, score: 499, e: 0.01\n",
            "episode: 25/1000, score: 247, e: 0.01\n",
            "episode: 26/1000, score: 314, e: 0.01\n",
            "episode: 27/1000, score: 499, e: 0.01\n",
            "episode: 28/1000, score: 277, e: 0.01\n",
            "episode: 29/1000, score: 499, e: 0.01\n",
            "episode: 30/1000, score: 499, e: 0.01\n",
            "episode: 31/1000, score: 84, e: 0.01\n",
            "episode: 32/1000, score: 111, e: 0.01\n",
            "episode: 33/1000, score: 17, e: 0.01\n",
            "episode: 34/1000, score: 119, e: 0.01\n",
            "episode: 35/1000, score: 151, e: 0.01\n",
            "episode: 36/1000, score: 46, e: 0.01\n",
            "episode: 37/1000, score: 14, e: 0.01\n",
            "episode: 38/1000, score: 196, e: 0.01\n",
            "episode: 39/1000, score: 86, e: 0.01\n",
            "episode: 40/1000, score: 12, e: 0.01\n",
            "episode: 41/1000, score: 12, e: 0.01\n",
            "episode: 42/1000, score: 11, e: 0.01\n",
            "episode: 43/1000, score: 9, e: 0.01\n",
            "episode: 44/1000, score: 19, e: 0.01\n",
            "episode: 45/1000, score: 254, e: 0.01\n",
            "episode: 46/1000, score: 104, e: 0.01\n",
            "episode: 47/1000, score: 319, e: 0.01\n",
            "episode: 48/1000, score: 144, e: 0.01\n",
            "episode: 49/1000, score: 142, e: 0.01\n",
            "episode: 50/1000, score: 187, e: 0.01\n",
            "episode: 51/1000, score: 152, e: 0.01\n",
            "episode: 52/1000, score: 203, e: 0.01\n",
            "episode: 53/1000, score: 155, e: 0.01\n",
            "episode: 54/1000, score: 155, e: 0.01\n",
            "episode: 55/1000, score: 167, e: 0.01\n",
            "episode: 56/1000, score: 135, e: 0.01\n",
            "episode: 57/1000, score: 77, e: 0.01\n",
            "episode: 58/1000, score: 151, e: 0.01\n",
            "episode: 59/1000, score: 154, e: 0.01\n",
            "episode: 60/1000, score: 186, e: 0.01\n",
            "episode: 61/1000, score: 175, e: 0.01\n",
            "episode: 62/1000, score: 142, e: 0.01\n",
            "episode: 63/1000, score: 173, e: 0.01\n",
            "episode: 64/1000, score: 63, e: 0.01\n",
            "episode: 65/1000, score: 183, e: 0.01\n",
            "episode: 66/1000, score: 204, e: 0.01\n",
            "episode: 67/1000, score: 61, e: 0.01\n",
            "episode: 68/1000, score: 164, e: 0.01\n",
            "episode: 69/1000, score: 138, e: 0.01\n",
            "episode: 70/1000, score: 176, e: 0.01\n",
            "episode: 71/1000, score: 170, e: 0.01\n",
            "episode: 72/1000, score: 155, e: 0.01\n",
            "episode: 73/1000, score: 136, e: 0.01\n",
            "episode: 74/1000, score: 179, e: 0.01\n"
          ],
          "name": "stdout"
        }
      ]
    },
    {
      "cell_type": "code",
      "metadata": {
        "id": "aZkAYSdAn-EM",
        "colab_type": "code",
        "colab": {}
      },
      "source": [
        "agent.save(\"./save/cartpole-dqn.h5\")"
      ],
      "execution_count": 0,
      "outputs": []
    }
  ]
}